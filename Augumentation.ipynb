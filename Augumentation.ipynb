{
 "cells": [
  {
   "cell_type": "code",
   "execution_count": 10,
   "id": "1cbb8bfb",
   "metadata": {},
   "outputs": [],
   "source": [
    "import cv2\n",
    "import numpy as np\n",
    "import os\n",
    "import matplotlib.pyplot as plt\n",
    "import glob"
   ]
  },
  {
   "cell_type": "code",
   "execution_count": null,
   "id": "2409926b",
   "metadata": {},
   "outputs": [],
   "source": [
    "!pip install opencv-python"
   ]
  },
  {
   "cell_type": "code",
   "execution_count": 31,
   "id": "4b9fcf10",
   "metadata": {},
   "outputs": [
    {
     "name": "stdout",
     "output_type": "stream",
     "text": [
      "2001\n"
     ]
    }
   ],
   "source": [
    "folder = r\"C:/Users/SukuBharath/brain_tumour_mri/Training/pituitary/\"\n",
    "count = 1\n",
    "for file_name in os.listdir(folder):\n",
    "    # Construct old file name\n",
    "    source = folder + file_name\n",
    "\n",
    "    # Adding the count to the new file name and extension\n",
    "    destination = folder + \"Img_\" + str(count) + \".jpg\"\n",
    "\n",
    "    # Renaming the file\n",
    "    os.rename(source, destination)\n",
    "    count += 1\n",
    "print(count)"
   ]
  },
  {
   "cell_type": "code",
   "execution_count": null,
   "id": "890aa383",
   "metadata": {},
   "outputs": [],
   "source": [
    "cv_img = []\n",
    "for img in glob.glob(r\"E:\\brain tumour mri\\Training\\glioma\\Img_*.jpg\"):\n",
    "    n= cv2.imread(img)\n",
    "    cv_img.append(n)"
   ]
  },
  {
   "cell_type": "code",
   "execution_count": null,
   "id": "2e544513",
   "metadata": {},
   "outputs": [],
   "source": [
    "cv_img"
   ]
  },
  {
   "cell_type": "code",
   "execution_count": 33,
   "id": "1d7c32e2",
   "metadata": {},
   "outputs": [],
   "source": [
    "def crop_image(image):\n",
    "    crp = []\n",
    "    for i in range(len(cv_img)):\n",
    "        img = cv_img[i]\n",
    "        img_resize = cv2.resize(img,(256,256))\n",
    "        crp.append(img_resize)\n",
    "    return crp"
   ]
  },
  {
   "cell_type": "code",
   "execution_count": 34,
   "id": "71bb8706",
   "metadata": {},
   "outputs": [],
   "source": [
    "crpimage = crop_image(cv_img)   "
   ]
  },
  {
   "cell_type": "code",
   "execution_count": 35,
   "id": "ffe53201",
   "metadata": {},
   "outputs": [],
   "source": [
    "frame_dir = r\"C:\\Users\\SukuBharath\\brain_tumour_mri\\Training\\pituitary\"\n",
    "frame_dir_lst = os.listdir(frame_dir)\n",
    "output_dir_1=r\"C:\\Users\\SukuBharath\\brain_tumour_mri\\Training\\pituitary\\crop_image\"\n",
    "if not os.path.exists(output_dir_1):\n",
    "    os.mkdir(output_dir_1) "
   ]
  },
  {
   "cell_type": "code",
   "execution_count": 36,
   "id": "f63922d8",
   "metadata": {},
   "outputs": [
    {
     "name": "stdout",
     "output_type": "stream",
     "text": [
      "1999\n"
     ]
    }
   ],
   "source": [
    "i=0\n",
    "for image_nm in frame_dir_lst[1:]:\n",
    "        cv2.imwrite(os.path.join(output_dir_1,image_nm),crpimage[i])\n",
    "        i+=1\n",
    "print(i)"
   ]
  },
  {
   "cell_type": "code",
   "execution_count": 4,
   "id": "e3923e82",
   "metadata": {},
   "outputs": [],
   "source": [
    "label = 'img'\n",
    "cv2.imshow(label,cv_img[1])\n",
    "cv2.waitKey(0) \n",
    "cv2.destroyAllWindows() "
   ]
  },
  {
   "cell_type": "code",
   "execution_count": 37,
   "id": "62e73a51",
   "metadata": {},
   "outputs": [],
   "source": [
    "def img_flip(image):\n",
    "    flip_image = []\n",
    "    for i in range(len(image)):\n",
    "        flip_horizontal = cv2.flip(image[i],1)\n",
    "        flip_image.append(flip_horizontal)\n",
    "    return flip_image"
   ]
  },
  {
   "cell_type": "code",
   "execution_count": 38,
   "id": "9bddcfae",
   "metadata": {},
   "outputs": [],
   "source": [
    "flipped_images = img_flip(crpimage)"
   ]
  },
  {
   "cell_type": "code",
   "execution_count": 39,
   "id": "0f6796ed",
   "metadata": {},
   "outputs": [],
   "source": [
    "frame_dir = \"E:/brain tumour mri/Training/pituitary\"\n",
    "frame_dir_lst = os.listdir(frame_dir)\n",
    "output_dir_1=r\"C:\\Users\\SukuBharath\\brain_tumour_mri\\Training\\pituitary\\Flipped_images\"\n",
    "if not os.path.exists(output_dir_1):\n",
    "    os.mkdir(output_dir_1) "
   ]
  },
  {
   "cell_type": "code",
   "execution_count": 40,
   "id": "daf8365a",
   "metadata": {},
   "outputs": [
    {
     "name": "stdout",
     "output_type": "stream",
     "text": [
      "2000\n"
     ]
    }
   ],
   "source": [
    "i=0\n",
    "for image_nm in frame_dir_lst:\n",
    "        cv2.imwrite(os.path.join(output_dir_1,image_nm),flipped_images[i])\n",
    "        i+=1\n",
    "print(i)"
   ]
  },
  {
   "cell_type": "code",
   "execution_count": null,
   "id": "5b78ede5",
   "metadata": {},
   "outputs": [],
   "source": []
  }
 ],
 "metadata": {
  "kernelspec": {
   "display_name": "Python 3 (ipykernel)",
   "language": "python",
   "name": "python3"
  },
  "language_info": {
   "codemirror_mode": {
    "name": "ipython",
    "version": 3
   },
   "file_extension": ".py",
   "mimetype": "text/x-python",
   "name": "python",
   "nbconvert_exporter": "python",
   "pygments_lexer": "ipython3",
   "version": "3.9.12"
  }
 },
 "nbformat": 4,
 "nbformat_minor": 5
}
