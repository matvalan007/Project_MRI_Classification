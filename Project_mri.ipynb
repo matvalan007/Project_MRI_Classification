{
  "cells": [
    {
      "cell_type": "code",
      "execution_count": null,
      "metadata": {
        "id": "uThsfwnY8SMX",
        "colab": {
          "base_uri": "https://localhost:8080/"
        },
        "outputId": "923ee2e9-dd0b-422f-c89f-300ef76904f4"
      },
      "outputs": [
        {
          "output_type": "stream",
          "name": "stdout",
          "text": [
            "Drive already mounted at /content/drive; to attempt to forcibly remount, call drive.mount(\"/content/drive\", force_remount=True).\n"
          ]
        }
      ],
      "source": [
        "from google.colab import drive\n",
        "drive.mount('/content/drive')"
      ]
    },
    {
      "cell_type": "code",
      "execution_count": null,
      "metadata": {
        "id": "GtkTBhk85h-a"
      },
      "outputs": [],
      "source": [
        "import tensorflow as tf\n",
        "import numpy as np\n",
        "from tensorflow.keras.preprocessing.image import ImageDataGenerator\n",
        "from tensorflow.keras.models import Sequential\n",
        "from tensorflow.keras.layers import Conv2D, MaxPooling2D, Flatten, Dense, Dropout"
      ]
    },
    {
      "cell_type": "code",
      "execution_count": null,
      "metadata": {
        "id": "1vfuiEVd6ROw"
      },
      "outputs": [],
      "source": [
        "!unzip -q /content/drive/MyDrive/project_mri.zip"
      ]
    },
    {
      "cell_type": "code",
      "execution_count": null,
      "metadata": {
        "colab": {
          "base_uri": "https://localhost:8080/"
        },
        "id": "RgCRAhHy6FAL",
        "outputId": "e41887f8-7199-46f2-fe3e-4e1367c77159"
      },
      "outputs": [
        {
          "output_type": "stream",
          "name": "stdout",
          "text": [
            "Found 15980 images belonging to 4 classes.\n"
          ]
        }
      ],
      "source": [
        "train_datagen = ImageDataGenerator(rescale = 1./255)\n",
        "train_data = train_datagen.flow_from_directory(\n",
        "    '/content/project_mri_aug/Training',\n",
        "    classes = ['glioma' , 'meningioma' , 'notumor' , 'pituitary'],\n",
        "    batch_size = 64,\n",
        "    target_size = (256,256)\n",
        ")"
      ]
    },
    {
      "cell_type": "code",
      "execution_count": null,
      "metadata": {
        "colab": {
          "base_uri": "https://localhost:8080/"
        },
        "id": "adOEZZwH65Lq",
        "outputId": "820853bd-bfd5-4af5-c643-7d58cd4dae4c"
      },
      "outputs": [
        {
          "output_type": "stream",
          "name": "stdout",
          "text": [
            "Found 1705 images belonging to 4 classes.\n"
          ]
        }
      ],
      "source": [
        "test_datagen = ImageDataGenerator(rescale = 1./255)\n",
        "test_data = test_datagen.flow_from_directory(\n",
        "    '/content/project_mri_aug/Testing',\n",
        "    classes = ['glioma' , 'meningioma' , 'notumor' , 'pituitary'],\n",
        "    batch_size = 64,\n",
        "    target_size = (256,256)\n",
        ")"
      ]
    },
    {
      "cell_type": "code",
      "execution_count": null,
      "metadata": {
        "id": "j9dumAPQ7Ibo"
      },
      "outputs": [],
      "source": [
        "model = Sequential()\n",
        "model.add(Conv2D(input_shape=(256, 256, 3), filters=64,kernel_size=(3,3), padding=\"same\",activation='relu',use_bias=True))\n",
        "model.add(Conv2D(filters=32,kernel_size=(3,3), padding=\"same\",activation='relu',use_bias=True))\n",
        "model.add(MaxPooling2D((2, 2)))\n",
        "\n",
        "model.add(Conv2D(128, (3, 3), activation='relu',use_bias=True))\n",
        "model.add(MaxPooling2D((2, 2)))\n",
        "\n",
        "model.add(Conv2D(64, (3, 3), activation='relu',use_bias=True))\n",
        "model.add(MaxPooling2D((2, 2)))\n",
        "\n",
        "model.add(Conv2D(128, (3, 3), activation='relu',use_bias=True))\n",
        "model.add(MaxPooling2D((2, 2)))\n",
        "\n",
        "model.add(Conv2D(64, (3, 3), activation='relu',use_bias=True))\n",
        "model.add(MaxPooling2D((2, 2)))\n",
        "\n",
        "model.add(Conv2D(128, (3, 3), activation='relu',use_bias=True))\n",
        "model.add(MaxPooling2D((2, 2)))\n",
        "\n",
        "model.add(Flatten())\n",
        "model.add(Dense(64, activation='relu'))\n",
        "model.add(Dropout(0.3))\n",
        "model.add(Dense(32, activation='relu'))\n",
        "model.add(Dropout(0.3))\n",
        "model.add(Dense(4,activation='softmax'))"
      ]
    },
    {
      "cell_type": "code",
      "execution_count": null,
      "metadata": {
        "id": "f0oVlzck7UhG"
      },
      "outputs": [],
      "source": [
        "model.compile(optimizer=\"adam\", loss=\"categorical_crossentropy\", metrics=['accuracy'])"
      ]
    },
    {
      "cell_type": "code",
      "execution_count": null,
      "metadata": {
        "colab": {
          "base_uri": "https://localhost:8080/"
        },
        "id": "TJnyeU1O7aeT",
        "outputId": "ef97e10c-1a4a-46ac-9a23-2f376d1989e3"
      },
      "outputs": [
        {
          "output_type": "stream",
          "name": "stdout",
          "text": [
            "Model: \"sequential\"\n",
            "_________________________________________________________________\n",
            " Layer (type)                Output Shape              Param #   \n",
            "=================================================================\n",
            " conv2d (Conv2D)             (None, 256, 256, 64)      1792      \n",
            "                                                                 \n",
            " conv2d_1 (Conv2D)           (None, 256, 256, 32)      18464     \n",
            "                                                                 \n",
            " max_pooling2d (MaxPooling2D  (None, 128, 128, 32)     0         \n",
            " )                                                               \n",
            "                                                                 \n",
            " conv2d_2 (Conv2D)           (None, 126, 126, 128)     36992     \n",
            "                                                                 \n",
            " max_pooling2d_1 (MaxPooling  (None, 63, 63, 128)      0         \n",
            " 2D)                                                             \n",
            "                                                                 \n",
            " conv2d_3 (Conv2D)           (None, 61, 61, 64)        73792     \n",
            "                                                                 \n",
            " max_pooling2d_2 (MaxPooling  (None, 30, 30, 64)       0         \n",
            " 2D)                                                             \n",
            "                                                                 \n",
            " conv2d_4 (Conv2D)           (None, 28, 28, 128)       73856     \n",
            "                                                                 \n",
            " max_pooling2d_3 (MaxPooling  (None, 14, 14, 128)      0         \n",
            " 2D)                                                             \n",
            "                                                                 \n",
            " conv2d_5 (Conv2D)           (None, 12, 12, 64)        73792     \n",
            "                                                                 \n",
            " max_pooling2d_4 (MaxPooling  (None, 6, 6, 64)         0         \n",
            " 2D)                                                             \n",
            "                                                                 \n",
            " conv2d_6 (Conv2D)           (None, 4, 4, 128)         73856     \n",
            "                                                                 \n",
            " max_pooling2d_5 (MaxPooling  (None, 2, 2, 128)        0         \n",
            " 2D)                                                             \n",
            "                                                                 \n",
            " flatten (Flatten)           (None, 512)               0         \n",
            "                                                                 \n",
            " dense (Dense)               (None, 64)                32832     \n",
            "                                                                 \n",
            " dropout (Dropout)           (None, 64)                0         \n",
            "                                                                 \n",
            " dense_1 (Dense)             (None, 32)                2080      \n",
            "                                                                 \n",
            " dropout_1 (Dropout)         (None, 32)                0         \n",
            "                                                                 \n",
            " dense_2 (Dense)             (None, 4)                 132       \n",
            "                                                                 \n",
            "=================================================================\n",
            "Total params: 387,588\n",
            "Trainable params: 387,588\n",
            "Non-trainable params: 0\n",
            "_________________________________________________________________\n"
          ]
        }
      ],
      "source": [
        "model.summary()"
      ]
    },
    {
      "cell_type": "code",
      "execution_count": null,
      "metadata": {
        "colab": {
          "base_uri": "https://localhost:8080/"
        },
        "id": "Y5TXvj8B7dgO",
        "outputId": "6084078a-c41f-4173-9476-b30329e86250"
      },
      "outputs": [
        {
          "output_type": "stream",
          "name": "stdout",
          "text": [
            "Epoch 1/10\n",
            "250/250 [==============================] - 111s 391ms/step - loss: 1.2681 - accuracy: 0.3524 - val_loss: 1.3226 - val_accuracy: 0.4493\n",
            "Epoch 2/10\n",
            "250/250 [==============================] - 94s 376ms/step - loss: 0.8945 - accuracy: 0.6114 - val_loss: 1.1684 - val_accuracy: 0.6264\n",
            "Epoch 3/10\n",
            "250/250 [==============================] - 95s 380ms/step - loss: 0.5734 - accuracy: 0.7725 - val_loss: 0.9562 - val_accuracy: 0.6827\n",
            "Epoch 4/10\n",
            "250/250 [==============================] - 95s 381ms/step - loss: 0.4418 - accuracy: 0.8258 - val_loss: 0.8878 - val_accuracy: 0.7630\n",
            "Epoch 5/10\n",
            "250/250 [==============================] - 95s 381ms/step - loss: 0.3331 - accuracy: 0.8746 - val_loss: 0.8778 - val_accuracy: 0.7730\n",
            "Epoch 6/10\n",
            "250/250 [==============================] - 95s 381ms/step - loss: 0.2617 - accuracy: 0.9065 - val_loss: 0.6631 - val_accuracy: 0.8563\n",
            "Epoch 7/10\n",
            "250/250 [==============================] - 95s 381ms/step - loss: 0.1982 - accuracy: 0.9297 - val_loss: 0.8642 - val_accuracy: 0.8581\n",
            "Epoch 8/10\n",
            "250/250 [==============================] - 95s 381ms/step - loss: 0.1568 - accuracy: 0.9463 - val_loss: 0.9975 - val_accuracy: 0.8944\n",
            "Epoch 9/10\n",
            "250/250 [==============================] - 95s 381ms/step - loss: 0.1249 - accuracy: 0.9575 - val_loss: 1.4931 - val_accuracy: 0.8698\n",
            "Epoch 10/10\n",
            "250/250 [==============================] - 95s 381ms/step - loss: 0.1068 - accuracy: 0.9649 - val_loss: 0.8798 - val_accuracy: 0.9032\n"
          ]
        }
      ],
      "source": [
        "result = model.fit(train_data, epochs = 10, validation_data = test_data)"
      ]
    },
    {
      "cell_type": "code",
      "source": [
        "from tensorflow.keras.models import load_model"
      ],
      "metadata": {
        "id": "FkeywM042MIy"
      },
      "execution_count": null,
      "outputs": []
    },
    {
      "cell_type": "code",
      "source": [
        "my_model = load_model('/content/mri_model.h5')"
      ],
      "metadata": {
        "id": "ntqe9Jg_bAeA"
      },
      "execution_count": null,
      "outputs": []
    },
    {
      "cell_type": "code",
      "source": [
        "import cv2\n",
        "img = '/content/project_mri_aug/Training/glioma/Img_1745.jpg'\n",
        "frame = cv2.imread(img)\n",
        "frame=cv2.cvtColor(frame, cv2.COLOR_BGR2GRAY )\n",
        "image_1_resize = cv2.resize(frame,(256,256))"
      ],
      "metadata": {
        "id": "coB169oQZWWw"
      },
      "execution_count": null,
      "outputs": []
    },
    {
      "cell_type": "code",
      "source": [
        "image_1_resize.shape"
      ],
      "metadata": {
        "colab": {
          "base_uri": "https://localhost:8080/"
        },
        "id": "S3LeG6cdcRt6",
        "outputId": "909b0e13-2e11-4e51-a135-0ed280ad2786"
      },
      "execution_count": null,
      "outputs": [
        {
          "output_type": "execute_result",
          "data": {
            "text/plain": [
              "(256, 256)"
            ]
          },
          "metadata": {},
          "execution_count": 47
        }
      ]
    },
    {
      "cell_type": "code",
      "source": [
        "ans = np.dstack([image_1_resize,image_1_resize,image_1_resize])\n",
        "ans = np.expand_dims(ans, axis = 0)"
      ],
      "metadata": {
        "id": "jpBQqjLXeTSi"
      },
      "execution_count": null,
      "outputs": []
    },
    {
      "cell_type": "code",
      "source": [
        "ans.shape"
      ],
      "metadata": {
        "colab": {
          "base_uri": "https://localhost:8080/"
        },
        "id": "POOq2FaQeb2s",
        "outputId": "729e9526-81a4-4f8c-c620-57d12cfff06d"
      },
      "execution_count": null,
      "outputs": [
        {
          "output_type": "execute_result",
          "data": {
            "text/plain": [
              "(1, 256, 256, 3)"
            ]
          },
          "metadata": {},
          "execution_count": 76
        }
      ]
    },
    {
      "cell_type": "code",
      "source": [
        "pred = my_model.predict(ans)\n",
        "print(pred)\n"
      ],
      "metadata": {
        "colab": {
          "base_uri": "https://localhost:8080/"
        },
        "id": "apQAZjhMbdTs",
        "outputId": "ffcb8ad7-feb3-4aff-e78b-8e1b46c300d1"
      },
      "execution_count": null,
      "outputs": [
        {
          "output_type": "stream",
          "name": "stdout",
          "text": [
            "1/1 [==============================] - 0s 17ms/step\n",
            "[[0. 0. 1. 0.]]\n"
          ]
        }
      ]
    },
    {
      "cell_type": "code",
      "source": [
        "pred[0][2]"
      ],
      "metadata": {
        "colab": {
          "base_uri": "https://localhost:8080/"
        },
        "id": "xCs8Un8Rm4Ir",
        "outputId": "b0fd6701-0440-4951-aa8a-7c5aa22e656f"
      },
      "execution_count": null,
      "outputs": [
        {
          "output_type": "execute_result",
          "data": {
            "text/plain": [
              "1.0"
            ]
          },
          "metadata": {},
          "execution_count": 35
        }
      ]
    },
    {
      "cell_type": "code",
      "source": [
        "pred = model.predict(\"/content/project_mri_aug/Testing/glioma/Te-glTr_0000.jpg\")\n",
        "pred"
      ],
      "metadata": {
        "colab": {
          "base_uri": "https://localhost:8080/",
          "height": 328
        },
        "id": "34qtqUZbZ8Nj",
        "outputId": "88c6a238-e6c2-42c9-f4b0-2b510cb74894"
      },
      "execution_count": null,
      "outputs": [
        {
          "output_type": "error",
          "ename": "IndexError",
          "evalue": "ignored",
          "traceback": [
            "\u001b[0;31m---------------------------------------------------------------------------\u001b[0m",
            "\u001b[0;31mIndexError\u001b[0m                                Traceback (most recent call last)",
            "\u001b[0;32m<ipython-input-13-13a62a87a266>\u001b[0m in \u001b[0;36m<module>\u001b[0;34m\u001b[0m\n\u001b[0;32m----> 1\u001b[0;31m \u001b[0mpred\u001b[0m \u001b[0;34m=\u001b[0m \u001b[0mmodel\u001b[0m\u001b[0;34m.\u001b[0m\u001b[0mpredict\u001b[0m\u001b[0;34m(\u001b[0m\u001b[0;34m\"/content/project_mri_aug/Testing/glioma/Te-glTr_0000.jpg\"\u001b[0m\u001b[0;34m)\u001b[0m\u001b[0;34m\u001b[0m\u001b[0;34m\u001b[0m\u001b[0m\n\u001b[0m\u001b[1;32m      2\u001b[0m \u001b[0mpred\u001b[0m\u001b[0;34m\u001b[0m\u001b[0;34m\u001b[0m\u001b[0m\n",
            "\u001b[0;32m/usr/local/lib/python3.7/dist-packages/keras/utils/traceback_utils.py\u001b[0m in \u001b[0;36merror_handler\u001b[0;34m(*args, **kwargs)\u001b[0m\n\u001b[1;32m     65\u001b[0m     \u001b[0;32mexcept\u001b[0m \u001b[0mException\u001b[0m \u001b[0;32mas\u001b[0m \u001b[0me\u001b[0m\u001b[0;34m:\u001b[0m  \u001b[0;31m# pylint: disable=broad-except\u001b[0m\u001b[0;34m\u001b[0m\u001b[0;34m\u001b[0m\u001b[0m\n\u001b[1;32m     66\u001b[0m       \u001b[0mfiltered_tb\u001b[0m \u001b[0;34m=\u001b[0m \u001b[0m_process_traceback_frames\u001b[0m\u001b[0;34m(\u001b[0m\u001b[0me\u001b[0m\u001b[0;34m.\u001b[0m\u001b[0m__traceback__\u001b[0m\u001b[0;34m)\u001b[0m\u001b[0;34m\u001b[0m\u001b[0;34m\u001b[0m\u001b[0m\n\u001b[0;32m---> 67\u001b[0;31m       \u001b[0;32mraise\u001b[0m \u001b[0me\u001b[0m\u001b[0;34m.\u001b[0m\u001b[0mwith_traceback\u001b[0m\u001b[0;34m(\u001b[0m\u001b[0mfiltered_tb\u001b[0m\u001b[0;34m)\u001b[0m \u001b[0;32mfrom\u001b[0m \u001b[0;32mNone\u001b[0m\u001b[0;34m\u001b[0m\u001b[0;34m\u001b[0m\u001b[0m\n\u001b[0m\u001b[1;32m     68\u001b[0m     \u001b[0;32mfinally\u001b[0m\u001b[0;34m:\u001b[0m\u001b[0;34m\u001b[0m\u001b[0;34m\u001b[0m\u001b[0m\n\u001b[1;32m     69\u001b[0m       \u001b[0;32mdel\u001b[0m \u001b[0mfiltered_tb\u001b[0m\u001b[0;34m\u001b[0m\u001b[0;34m\u001b[0m\u001b[0m\n",
            "\u001b[0;32m/usr/local/lib/python3.7/dist-packages/tensorflow/python/framework/tensor_shape.py\u001b[0m in \u001b[0;36m__getitem__\u001b[0;34m(self, key)\u001b[0m\n\u001b[1;32m    907\u001b[0m       \u001b[0;32melse\u001b[0m\u001b[0;34m:\u001b[0m\u001b[0;34m\u001b[0m\u001b[0;34m\u001b[0m\u001b[0m\n\u001b[1;32m    908\u001b[0m         \u001b[0;32mif\u001b[0m \u001b[0mself\u001b[0m\u001b[0;34m.\u001b[0m\u001b[0m_v2_behavior\u001b[0m\u001b[0;34m:\u001b[0m\u001b[0;34m\u001b[0m\u001b[0;34m\u001b[0m\u001b[0m\n\u001b[0;32m--> 909\u001b[0;31m           \u001b[0;32mreturn\u001b[0m \u001b[0mself\u001b[0m\u001b[0;34m.\u001b[0m\u001b[0m_dims\u001b[0m\u001b[0;34m[\u001b[0m\u001b[0mkey\u001b[0m\u001b[0;34m]\u001b[0m\u001b[0;34m\u001b[0m\u001b[0;34m\u001b[0m\u001b[0m\n\u001b[0m\u001b[1;32m    910\u001b[0m         \u001b[0;32melse\u001b[0m\u001b[0;34m:\u001b[0m\u001b[0;34m\u001b[0m\u001b[0;34m\u001b[0m\u001b[0m\n\u001b[1;32m    911\u001b[0m           \u001b[0;32mreturn\u001b[0m \u001b[0mself\u001b[0m\u001b[0;34m.\u001b[0m\u001b[0mdims\u001b[0m\u001b[0;34m[\u001b[0m\u001b[0mkey\u001b[0m\u001b[0;34m]\u001b[0m\u001b[0;34m\u001b[0m\u001b[0;34m\u001b[0m\u001b[0m\n",
            "\u001b[0;31mIndexError\u001b[0m: tuple index out of range"
          ]
        }
      ]
    },
    {
      "cell_type": "code",
      "execution_count": null,
      "metadata": {
        "colab": {
          "base_uri": "https://localhost:8080/",
          "height": 300
        },
        "id": "UTw_jN4jGWx-",
        "outputId": "8f603e1b-1285-4642-e9f0-75c3cc2e88b7"
      },
      "outputs": [
        {
          "data": {
            "text/plain": [
              "<matplotlib.legend.Legend at 0x7f70204b8d90>"
            ]
          },
          "execution_count": 11,
          "metadata": {},
          "output_type": "execute_result"
        },
        {
          "data": {
            "image/png": "[encoded data removed]",
            "text/plain": [
              "<Figure size 432x288 with 1 Axes>"
            ]
          },
          "metadata": {},
          "output_type": "display_data"
        }
      ],
      "source": [
        "import matplotlib.pyplot as plt\n",
        "plt.plot(result.history['accuracy'], label='Training accuracy')\n",
        "plt.plot(result.history['val_accuracy'], label='Validating accuracy')\n",
        "plt.xlabel('Epochs')\n",
        "plt.ylabel('Accuracy')\n",
        "plt.ylim([0.5,1])\n",
        "plt.legend(loc = 'lower right')"
      ]
    },
    {
      "cell_type": "code",
      "execution_count": null,
      "metadata": {
        "colab": {
          "base_uri": "https://localhost:8080/"
        },
        "id": "4FdLnk9T94l-",
        "outputId": "ebb6fb92-d60b-40ee-9dc2-cfc2c8326cd6"
      },
      "outputs": [
        {
          "name": "stdout",
          "output_type": "stream",
          "text": [
            "Found 7989 images belonging to 4 classes.\n"
          ]
        }
      ],
      "source": [
        "train_datagen1 = ImageDataGenerator(rescale = 1./255)\n",
        "train_data1 = train_datagen1.flow_from_directory(\n",
        "    '/content/project_mri_no_aug/Training',\n",
        "    classes = ['glioma' , 'meningioma' , 'notumor' , 'pituitary'],\n",
        "    batch_size = 64,\n",
        "    target_size = (256,256)\n",
        ")"
      ]
    },
    {
      "cell_type": "code",
      "execution_count": null,
      "metadata": {
        "colab": {
          "base_uri": "https://localhost:8080/"
        },
        "id": "lLpFheW199da",
        "outputId": "02ea40c5-665d-4703-944f-09ed270c25ed"
      },
      "outputs": [
        {
          "name": "stdout",
          "output_type": "stream",
          "text": [
            "Found 1705 images belonging to 4 classes.\n"
          ]
        }
      ],
      "source": [
        "test_datagen1 = ImageDataGenerator(rescale = 1./255)\n",
        "test_data1 = test_datagen1.flow_from_directory(\n",
        "    '/content/project_mri_no_aug/Testing',\n",
        "    classes = ['glioma' , 'meningioma' , 'notumor' , 'pituitary'],\n",
        "    batch_size = 64,\n",
        "    target_size = (256,256)\n",
        ")"
      ]
    },
    {
      "cell_type": "code",
      "execution_count": null,
      "metadata": {
        "id": "5CMf-FlPqKvn"
      },
      "outputs": [],
      "source": [
        "model2 = Sequential()\n",
        "model2.add(Conv2D(input_shape=(256, 256, 3), filters=32,kernel_size=(3,3), padding=\"same\",activation='relu'))\n",
        "model2.add(Conv2D(filters=32,kernel_size=(3,3), padding=\"same\",activation='relu'))\n",
        "model2.add(MaxPooling2D((2, 2)))\n",
        "\n",
        "model2.add(Conv2D(64, (3, 3), activation='relu'))\n",
        "model2.add(MaxPooling2D((2, 2)))\n",
        "\n",
        "model2.add(Conv2D(128, (3, 3), activation='relu'))\n",
        "model2.add(MaxPooling2D((2, 2)))\n",
        "\n",
        "model2.add(Conv2D(256, (3, 3), activation='relu'))\n",
        "model2.add(MaxPooling2D((2, 2)))\n",
        "\n",
        "model2.add(Conv2D(256, (3, 3), activation='relu'))\n",
        "model2.add(MaxPooling2D((2, 2)))\n",
        "\n",
        "model2.add(Flatten())\n",
        "model2.add(Dense(64, activation='relu'))\n",
        "model2.add(Dropout(0.3))\n",
        "model2.add(Dense(32, activation='relu'))\n",
        "model2.add(Dropout(0.3))\n",
        "model2.add(Dense(4,activation='softmax'))"
      ]
    },
    {
      "cell_type": "code",
      "execution_count": null,
      "metadata": {
        "id": "8zJLQUKIZB8d"
      },
      "outputs": [],
      "source": [
        "model2.compile(optimizer=\"adam\", loss=\"categorical_crossentropy\", metrics=['accuracy'])"
      ]
    },
    {
      "cell_type": "code",
      "execution_count": null,
      "metadata": {
        "colab": {
          "base_uri": "https://localhost:8080/"
        },
        "id": "6IXqNlF1-Lsp",
        "outputId": "2d2b18a2-5dfa-426d-9750-5b2837ad98ef"
      },
      "outputs": [
        {
          "name": "stdout",
          "output_type": "stream",
          "text": [
            "Epoch 1/10\n",
            "100/100 [==============================] - 38s 342ms/step - loss: 0.9875 - accuracy: 0.5647 - val_loss: 0.9463 - val_accuracy: 0.6135\n",
            "Epoch 2/10\n",
            "100/100 [==============================] - 31s 309ms/step - loss: 0.6613 - accuracy: 0.7267 - val_loss: 0.9036 - val_accuracy: 0.6856\n",
            "Epoch 3/10\n",
            "100/100 [==============================] - 33s 325ms/step - loss: 0.4751 - accuracy: 0.8147 - val_loss: 0.7160 - val_accuracy: 0.7267\n",
            "Epoch 4/10\n",
            "100/100 [==============================] - 31s 308ms/step - loss: 0.3736 - accuracy: 0.8565 - val_loss: 0.7425 - val_accuracy: 0.7425\n",
            "Epoch 5/10\n",
            "100/100 [==============================] - 31s 312ms/step - loss: 0.2954 - accuracy: 0.8904 - val_loss: 0.6806 - val_accuracy: 0.7865\n",
            "Epoch 6/10\n",
            "100/100 [==============================] - 31s 309ms/step - loss: 0.2514 - accuracy: 0.9052 - val_loss: 0.7824 - val_accuracy: 0.8252\n",
            "Epoch 7/10\n",
            "100/100 [==============================] - 31s 308ms/step - loss: 0.2094 - accuracy: 0.9247 - val_loss: 0.9255 - val_accuracy: 0.8258\n",
            "Epoch 8/10\n",
            "100/100 [==============================] - 31s 310ms/step - loss: 0.1856 - accuracy: 0.9343 - val_loss: 0.5651 - val_accuracy: 0.8616\n",
            "Epoch 9/10\n",
            "100/100 [==============================] - 31s 309ms/step - loss: 0.1795 - accuracy: 0.9345 - val_loss: 0.7288 - val_accuracy: 0.8674\n",
            "Epoch 10/10\n",
            "100/100 [==============================] - 31s 309ms/step - loss: 0.1478 - accuracy: 0.9501 - val_loss: 0.7412 - val_accuracy: 0.8628\n"
          ]
        }
      ],
      "source": [
        "result2 = model2.fit(train_data1,steps_per_epoch = 100,epochs = 10, validation_data = test_data1)"
      ]
    },
    {
      "cell_type": "code",
      "execution_count": null,
      "metadata": {
        "colab": {
          "base_uri": "https://localhost:8080/",
          "height": 300
        },
        "id": "WJLkd7fjGprY",
        "outputId": "6196b4ee-bca1-4687-b437-7e58104e8eff"
      },
      "outputs": [
        {
          "data": {
            "text/plain": [
              "<matplotlib.legend.Legend at 0x7ff642406510>"
            ]
          },
          "execution_count": 16,
          "metadata": {},
          "output_type": "execute_result"
        },
        {
          "data": {
            "image/png": "[encoded data removed]",
            "text/plain": [
              "<Figure size 432x288 with 1 Axes>"
            ]
          },
          "metadata": {},
          "output_type": "display_data"
        }
      ],
      "source": [
        "import matplotlib.pyplot as plt\n",
        "plt.plot(result2.history['accuracy'], label='Training accuracy')\n",
        "plt.plot(result2.history['val_accuracy'], label='Validating accuracy')\n",
        "plt.xlabel('Epochs')\n",
        "plt.ylabel('Accuracy')\n",
        "plt.ylim([0.5,1])\n",
        "plt.legend(loc = 'lower right')"
      ]
    },
    {
      "cell_type": "code",
      "execution_count": null,
      "metadata": {
        "colab": {
          "base_uri": "https://localhost:8080/"
        },
        "id": "JR8hi-eapZW5",
        "outputId": "e3e5b0c0-555b-4288-a269-e94054439d77"
      },
      "outputs": [
        {
          "name": "stdout",
          "output_type": "stream",
          "text": [
            "Model: \"sequential\"\n",
            "_________________________________________________________________\n",
            " Layer (type)                Output Shape              Param #   \n",
            "=================================================================\n",
            " conv2d (Conv2D)             (None, 254, 254, 32)      896       \n",
            "                                                                 \n",
            " max_pooling2d (MaxPooling2D  (None, 127, 127, 32)     0         \n",
            " )                                                               \n",
            "                                                                 \n",
            " conv2d_1 (Conv2D)           (None, 125, 125, 64)      18496     \n",
            "                                                                 \n",
            " max_pooling2d_1 (MaxPooling  (None, 62, 62, 64)       0         \n",
            " 2D)                                                             \n",
            "                                                                 \n",
            " conv2d_2 (Conv2D)           (None, 60, 60, 128)       73856     \n",
            "                                                                 \n",
            " max_pooling2d_2 (MaxPooling  (None, 30, 30, 128)      0         \n",
            " 2D)                                                             \n",
            "                                                                 \n",
            " conv2d_3 (Conv2D)           (None, 28, 28, 256)       295168    \n",
            "                                                                 \n",
            " max_pooling2d_3 (MaxPooling  (None, 14, 14, 256)      0         \n",
            " 2D)                                                             \n",
            "                                                                 \n",
            " conv2d_4 (Conv2D)           (None, 12, 12, 512)       1180160   \n",
            "                                                                 \n",
            " max_pooling2d_4 (MaxPooling  (None, 6, 6, 512)        0         \n",
            " 2D)                                                             \n",
            "                                                                 \n",
            " flatten (Flatten)           (None, 18432)             0         \n",
            "                                                                 \n",
            " dense (Dense)               (None, 1024)              18875392  \n",
            "                                                                 \n",
            " dropout (Dropout)           (None, 1024)              0         \n",
            "                                                                 \n",
            " dense_1 (Dense)             (None, 512)               524800    \n",
            "                                                                 \n",
            " dropout_1 (Dropout)         (None, 512)               0         \n",
            "                                                                 \n",
            " dense_2 (Dense)             (None, 4)                 2052      \n",
            "                                                                 \n",
            "=================================================================\n",
            "Total params: 20,970,820\n",
            "Trainable params: 20,970,820\n",
            "Non-trainable params: 0\n",
            "_________________________________________________________________\n"
          ]
        }
      ],
      "source": [
        "classifier = Sequential()\n",
        "\n",
        "classifier.add(Conv2D(32, (3, 3), activation=\"relu\", input_shape=(256, 256, 3)))\n",
        "classifier.add(MaxPooling2D(pool_size = (2, 2)))\n",
        "\n",
        "classifier.add(Conv2D(64, (3, 3), activation=\"relu\"))\n",
        "classifier.add(MaxPooling2D(pool_size = (2, 2)))\n",
        "\n",
        "classifier.add(Conv2D(128, (3, 3), activation=\"relu\"))\n",
        "classifier.add(MaxPooling2D(pool_size = (2, 2)))\n",
        "\n",
        "classifier.add(Conv2D(256, (3, 3), activation=\"relu\"))\n",
        "classifier.add(MaxPooling2D(pool_size = (2, 2)))\n",
        "\n",
        "classifier.add(Conv2D(512, (3, 3), activation=\"relu\"))\n",
        "classifier.add(MaxPooling2D(pool_size = (2, 2)))\n",
        "\n",
        "\n",
        "classifier.add(Flatten())\n",
        "\n",
        "classifier.add(Dense(activation = 'relu', units = 1024))\n",
        "classifier.add(Dropout(0.4))\n",
        "classifier.add(Dense(activation = 'relu', units = 512))\n",
        "classifier.add(Dropout(0.4))\n",
        "classifier.add(Dense(activation = 'softmax', units = 4))\n",
        "\n",
        "classifier.compile(optimizer = 'adam', loss = 'categorical_crossentropy', metrics = ['accuracy'])\n",
        "\n",
        "classifier.summary()"
      ]
    },
    {
      "cell_type": "code",
      "execution_count": null,
      "metadata": {
        "colab": {
          "base_uri": "https://localhost:8080/"
        },
        "id": "Cibscoqsp8lm",
        "outputId": "39dbf03b-0caf-4908-a0b7-85f960353e45"
      },
      "outputs": [
        {
          "name": "stdout",
          "output_type": "stream",
          "text": [
            "Epoch 1/10\n",
            "100/100 [==============================] - 31s 257ms/step - loss: 0.8646 - accuracy: 0.6171 - val_loss: 0.9890 - val_accuracy: 0.6786\n",
            "Epoch 2/10\n",
            "100/100 [==============================] - 24s 244ms/step - loss: 0.4897 - accuracy: 0.8006 - val_loss: 0.9324 - val_accuracy: 0.7337\n",
            "Epoch 3/10\n",
            "100/100 [==============================] - 25s 247ms/step - loss: 0.3466 - accuracy: 0.8633 - val_loss: 0.8015 - val_accuracy: 0.8252\n",
            "Epoch 4/10\n",
            "100/100 [==============================] - 24s 237ms/step - loss: 0.2304 - accuracy: 0.9119 - val_loss: 0.7396 - val_accuracy: 0.8745\n",
            "Epoch 5/10\n",
            "100/100 [==============================] - 24s 236ms/step - loss: 0.1785 - accuracy: 0.9320 - val_loss: 0.7562 - val_accuracy: 0.8522\n",
            "Epoch 6/10\n",
            "100/100 [==============================] - 23s 233ms/step - loss: 0.1236 - accuracy: 0.9538 - val_loss: 0.7437 - val_accuracy: 0.9009\n",
            "Epoch 7/10\n",
            "100/100 [==============================] - 23s 233ms/step - loss: 0.0921 - accuracy: 0.9665 - val_loss: 0.6442 - val_accuracy: 0.9173\n",
            "Epoch 8/10\n",
            "100/100 [==============================] - 23s 231ms/step - loss: 0.0680 - accuracy: 0.9766 - val_loss: 0.6816 - val_accuracy: 0.9196\n",
            "Epoch 9/10\n",
            "100/100 [==============================] - 23s 232ms/step - loss: 0.0671 - accuracy: 0.9780 - val_loss: 0.7227 - val_accuracy: 0.9314\n",
            "Epoch 10/10\n",
            "100/100 [==============================] - 25s 244ms/step - loss: 0.0579 - accuracy: 0.9817 - val_loss: 0.6983 - val_accuracy: 0.8950\n"
          ]
        }
      ],
      "source": [
        "result3 = classifier.fit(train_data1,steps_per_epoch = 100,epochs = 10, validation_data = test_data1)"
      ]
    }
  ],
  "metadata": {
    "accelerator": "GPU",
    "colab": {
      "provenance": []
    },
    "kernelspec": {
      "display_name": "Python 3",
      "name": "python3"
    },
    "language_info": {
      "name": "python"
    }
  },
  "nbformat": 4,
  "nbformat_minor": 0
}